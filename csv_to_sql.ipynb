{
 "cells": [
  {
   "cell_type": "code",
   "execution_count": 13,
   "id": "c13ba199",
   "metadata": {},
   "outputs": [],
   "source": [
    "import pandas as pd\n",
    "from sqlalchemy import create_engine\n",
    "\n",
    "from postgres_login import username, password, connection\n",
    "\n",
    "\n",
    "connection_string = connection_string = f\"{username}:{password}@localhost:{connection}/project2\"\n",
    "engine = create_engine(f'postgresql://{connection_string}')"
   ]
  },
  {
   "cell_type": "code",
   "execution_count": 14,
   "id": "6cc2a636",
   "metadata": {},
   "outputs": [],
   "source": [
    "general_data = \"./resources/general_data.csv\"\n",
    "employee_survey = \"./resources/employee_survey_data.csv\"\n",
    "manager_survey = \"./resources/manager_survey_data.csv\"\n",
    "\n",
    "general_df = pd.read_csv(general_data)\n",
    "employee_df = pd.read_csv(employee_survey)\n",
    "manager_df = pd.read_csv(manager_survey)"
   ]
  },
  {
   "cell_type": "code",
   "execution_count": 15,
   "id": "8a05f6b3",
   "metadata": {},
   "outputs": [],
   "source": [
    "general_df.loc[general_df[\"Attrition\"] == \"Yes\", \"Attrition\"] = 1\n",
    "general_df.loc[general_df[\"Attrition\"] == \"No\", \"Attrition\"] = 0\n",
    "\n",
    "general_df.loc[general_df[\"BusinessTravel\"] == \"Non-Travel\", \"BusinessTravel\"] = 0\n",
    "general_df.loc[general_df[\"BusinessTravel\"] == \"Travel_Rarely\", \"BusinessTravel\"] = 1\n",
    "general_df.loc[general_df[\"BusinessTravel\"] == \"Travel_Frequently\", \"BusinessTravel\"] = 2\n",
    "\n",
    "general_df.loc[general_df[\"Department\"] == \"Sales\", \"Department\"] = 0\n",
    "general_df.loc[general_df[\"Department\"] == 'Research & Development', \"Department\"] = 1\n",
    "general_df.loc[general_df[\"Department\"] == 'Human Resources', \"Department\"] = 2\n",
    "\n",
    "general_df.loc[general_df[\"EducationField\"] == 'Life Sciences', \"EducationField\"] = 1\n",
    "general_df.loc[general_df[\"EducationField\"] == 'Other', \"EducationField\"] = 2\n",
    "general_df.loc[general_df[\"EducationField\"] == 'Medical', \"EducationField\"] = 3\n",
    "general_df.loc[general_df[\"EducationField\"] == 'Marketing', \"EducationField\"] = 4\n",
    "general_df.loc[general_df[\"EducationField\"] == 'Technical Degree', \"EducationField\"] = 5\n",
    "general_df.loc[general_df[\"EducationField\"] == 'Human Resources', \"EducationField\"] = 6\n",
    "\n",
    "general_df.loc[general_df[\"Gender\"] == 'Female', \"Gender\"] = 1\n",
    "general_df.loc[general_df[\"Gender\"] == 'Male', \"Gender\"] = 2\n",
    "\n",
    "general_df.loc[general_df[\"JobRole\"] == 'Healthcare Representative', \"JobRole\"] = 1\n",
    "general_df.loc[general_df[\"JobRole\"] == 'Research Scientist', \"JobRole\"] = 2\n",
    "general_df.loc[general_df[\"JobRole\"] == 'Sales Executive', \"JobRole\"] = 3\n",
    "general_df.loc[general_df[\"JobRole\"] == 'Human Resources', \"JobRole\"] = 4\n",
    "general_df.loc[general_df[\"JobRole\"] == 'Research Director', \"JobRole\"] = 5\n",
    "general_df.loc[general_df[\"JobRole\"] == 'Laboratory Technician', \"JobRole\"] = 6\n",
    "general_df.loc[general_df[\"JobRole\"] == 'Manufacturing Director', \"JobRole\"] = 7\n",
    "general_df.loc[general_df[\"JobRole\"] == 'Sales Representative', \"JobRole\"] = 8\n",
    "general_df.loc[general_df[\"JobRole\"] == 'Manager', \"JobRole\"] = 9\n",
    "\n",
    "general_df.loc[general_df[\"MaritalStatus\"] == 'Married', \"MaritalStatus\"] = 1\n",
    "general_df.loc[general_df[\"MaritalStatus\"] == 'Single', \"MaritalStatus\"] = 2\n",
    "general_df.loc[general_df[\"MaritalStatus\"] == 'Divorced', \"MaritalStatus\"] = 3\n",
    "\n",
    "general_df.loc[general_df[\"Over18\"] == 'Y', \"Over18\"] = 1\n",
    "general_df.loc[general_df[\"Over18\"] == 'N', \"Over18\"] = 0"
   ]
  },
  {
   "cell_type": "code",
   "execution_count": 16,
   "id": "0945bb6e",
   "metadata": {},
   "outputs": [],
   "source": [
    "general_df.to_sql(name='general_data', con=engine, if_exists='append', index=True)\n",
    "employee_df.to_sql(name='employee_survey_data', con=engine, if_exists='append', index=True)\n",
    "manager_df.to_sql(name='manager_survey_data', con=engine, if_exists='append', index=True)"
   ]
  }
 ],
 "metadata": {
  "kernelspec": {
   "display_name": "Python 3 (ipykernel)",
   "language": "python",
   "name": "python3"
  },
  "language_info": {
   "codemirror_mode": {
    "name": "ipython",
    "version": 3
   },
   "file_extension": ".py",
   "mimetype": "text/x-python",
   "name": "python",
   "nbconvert_exporter": "python",
   "pygments_lexer": "ipython3",
   "version": "3.9.7"
  }
 },
 "nbformat": 4,
 "nbformat_minor": 5
}
