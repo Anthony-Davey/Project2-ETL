{
 "cells": [
  {
   "cell_type": "code",
   "execution_count": 1,
   "id": "a9e7aa7f",
   "metadata": {},
   "outputs": [],
   "source": [
    "import pandas as pd\n",
    "from sqlalchemy import create_engine"
   ]
  },
  {
   "cell_type": "markdown",
   "id": "0c1e3a73",
   "metadata": {},
   "source": [
    "# Extract"
   ]
  },
  {
   "cell_type": "markdown",
   "id": "0add255a",
   "metadata": {},
   "source": [
    "## Read the data from SQL Database"
   ]
  },
  {
   "cell_type": "markdown",
   "id": "b70c0751",
   "metadata": {},
   "source": [
    "This section won't be run the first time. At the end of this notebook we load the transformed data into a SQL database, this section reads from that database and gets the fully transformed companies_df dataframe ready to do analysis on it again. "
   ]
  },
  {
   "cell_type": "code",
   "execution_count": 2,
   "id": "941e9bb7",
   "metadata": {},
   "outputs": [],
   "source": [
    "from postgres_login import username, password, connection\n",
    "\n",
    "connection_string = connection_string = f\"{username}:{password}@localhost:{connection}/project2\"\n",
    "engine = create_engine(f'postgresql://{connection_string}')"
   ]
  },
  {
   "cell_type": "code",
   "execution_count": 3,
   "id": "2714598b",
   "metadata": {},
   "outputs": [],
   "source": [
    "companies_df = pd.read_sql_query(\"select * from company_data\", con=engine, index_col=\"employee_id\")"
   ]
  },
  {
   "cell_type": "code",
   "execution_count": 4,
   "id": "0750bff5",
   "metadata": {},
   "outputs": [
    {
     "data": {
      "text/html": [
       "<div>\n",
       "<style scoped>\n",
       "    .dataframe tbody tr th:only-of-type {\n",
       "        vertical-align: middle;\n",
       "    }\n",
       "\n",
       "    .dataframe tbody tr th {\n",
       "        vertical-align: top;\n",
       "    }\n",
       "\n",
       "    .dataframe thead th {\n",
       "        text-align: right;\n",
       "    }\n",
       "</style>\n",
       "<table border=\"1\" class=\"dataframe\">\n",
       "  <thead>\n",
       "    <tr style=\"text-align: right;\">\n",
       "      <th></th>\n",
       "      <th>environment_satisfaction</th>\n",
       "      <th>job_satisfaction</th>\n",
       "      <th>work_life_balance</th>\n",
       "      <th>job_involvement</th>\n",
       "      <th>performance_rating</th>\n",
       "      <th>num_companies_worked</th>\n",
       "      <th>attrition</th>\n",
       "      <th>percent_salary_hike</th>\n",
       "    </tr>\n",
       "    <tr>\n",
       "      <th>employee_id</th>\n",
       "      <th></th>\n",
       "      <th></th>\n",
       "      <th></th>\n",
       "      <th></th>\n",
       "      <th></th>\n",
       "      <th></th>\n",
       "      <th></th>\n",
       "      <th></th>\n",
       "    </tr>\n",
       "  </thead>\n",
       "  <tbody>\n",
       "    <tr>\n",
       "      <th>1</th>\n",
       "      <td>3</td>\n",
       "      <td>4</td>\n",
       "      <td>2</td>\n",
       "      <td>3</td>\n",
       "      <td>3</td>\n",
       "      <td>1</td>\n",
       "      <td>No</td>\n",
       "      <td>11</td>\n",
       "    </tr>\n",
       "    <tr>\n",
       "      <th>2</th>\n",
       "      <td>3</td>\n",
       "      <td>2</td>\n",
       "      <td>4</td>\n",
       "      <td>2</td>\n",
       "      <td>4</td>\n",
       "      <td>0</td>\n",
       "      <td>Yes</td>\n",
       "      <td>23</td>\n",
       "    </tr>\n",
       "    <tr>\n",
       "      <th>3</th>\n",
       "      <td>2</td>\n",
       "      <td>2</td>\n",
       "      <td>1</td>\n",
       "      <td>3</td>\n",
       "      <td>3</td>\n",
       "      <td>1</td>\n",
       "      <td>No</td>\n",
       "      <td>15</td>\n",
       "    </tr>\n",
       "    <tr>\n",
       "      <th>4</th>\n",
       "      <td>4</td>\n",
       "      <td>4</td>\n",
       "      <td>3</td>\n",
       "      <td>2</td>\n",
       "      <td>3</td>\n",
       "      <td>3</td>\n",
       "      <td>No</td>\n",
       "      <td>11</td>\n",
       "    </tr>\n",
       "    <tr>\n",
       "      <th>5</th>\n",
       "      <td>4</td>\n",
       "      <td>1</td>\n",
       "      <td>3</td>\n",
       "      <td>3</td>\n",
       "      <td>3</td>\n",
       "      <td>4</td>\n",
       "      <td>No</td>\n",
       "      <td>12</td>\n",
       "    </tr>\n",
       "    <tr>\n",
       "      <th>...</th>\n",
       "      <td>...</td>\n",
       "      <td>...</td>\n",
       "      <td>...</td>\n",
       "      <td>...</td>\n",
       "      <td>...</td>\n",
       "      <td>...</td>\n",
       "      <td>...</td>\n",
       "      <td>...</td>\n",
       "    </tr>\n",
       "    <tr>\n",
       "      <th>4405</th>\n",
       "      <td>3</td>\n",
       "      <td>4</td>\n",
       "      <td>3</td>\n",
       "      <td>2</td>\n",
       "      <td>3</td>\n",
       "      <td>1</td>\n",
       "      <td>No</td>\n",
       "      <td>18</td>\n",
       "    </tr>\n",
       "    <tr>\n",
       "      <th>4406</th>\n",
       "      <td>4</td>\n",
       "      <td>1</td>\n",
       "      <td>3</td>\n",
       "      <td>3</td>\n",
       "      <td>3</td>\n",
       "      <td>3</td>\n",
       "      <td>No</td>\n",
       "      <td>17</td>\n",
       "    </tr>\n",
       "    <tr>\n",
       "      <th>4407</th>\n",
       "      <td>4</td>\n",
       "      <td>4</td>\n",
       "      <td>3</td>\n",
       "      <td>2</td>\n",
       "      <td>3</td>\n",
       "      <td>2</td>\n",
       "      <td>No</td>\n",
       "      <td>15</td>\n",
       "    </tr>\n",
       "    <tr>\n",
       "      <th>4408</th>\n",
       "      <td>1</td>\n",
       "      <td>3</td>\n",
       "      <td>3</td>\n",
       "      <td>3</td>\n",
       "      <td>4</td>\n",
       "      <td>0</td>\n",
       "      <td>No</td>\n",
       "      <td>20</td>\n",
       "    </tr>\n",
       "    <tr>\n",
       "      <th>4409</th>\n",
       "      <td>4</td>\n",
       "      <td>1</td>\n",
       "      <td>3</td>\n",
       "      <td>2</td>\n",
       "      <td>3</td>\n",
       "      <td>0</td>\n",
       "      <td>No</td>\n",
       "      <td>14</td>\n",
       "    </tr>\n",
       "  </tbody>\n",
       "</table>\n",
       "<p>4308 rows × 8 columns</p>\n",
       "</div>"
      ],
      "text/plain": [
       "             environment_satisfaction  job_satisfaction  work_life_balance  \\\n",
       "employee_id                                                                  \n",
       "1                                   3                 4                  2   \n",
       "2                                   3                 2                  4   \n",
       "3                                   2                 2                  1   \n",
       "4                                   4                 4                  3   \n",
       "5                                   4                 1                  3   \n",
       "...                               ...               ...                ...   \n",
       "4405                                3                 4                  3   \n",
       "4406                                4                 1                  3   \n",
       "4407                                4                 4                  3   \n",
       "4408                                1                 3                  3   \n",
       "4409                                4                 1                  3   \n",
       "\n",
       "             job_involvement  performance_rating  num_companies_worked  \\\n",
       "employee_id                                                              \n",
       "1                          3                   3                     1   \n",
       "2                          2                   4                     0   \n",
       "3                          3                   3                     1   \n",
       "4                          2                   3                     3   \n",
       "5                          3                   3                     4   \n",
       "...                      ...                 ...                   ...   \n",
       "4405                       2                   3                     1   \n",
       "4406                       3                   3                     3   \n",
       "4407                       2                   3                     2   \n",
       "4408                       3                   4                     0   \n",
       "4409                       2                   3                     0   \n",
       "\n",
       "            attrition  percent_salary_hike  \n",
       "employee_id                                 \n",
       "1                  No                   11  \n",
       "2                 Yes                   23  \n",
       "3                  No                   15  \n",
       "4                  No                   11  \n",
       "5                  No                   12  \n",
       "...               ...                  ...  \n",
       "4405               No                   18  \n",
       "4406               No                   17  \n",
       "4407               No                   15  \n",
       "4408               No                   20  \n",
       "4409               No                   14  \n",
       "\n",
       "[4308 rows x 8 columns]"
      ]
     },
     "execution_count": 4,
     "metadata": {},
     "output_type": "execute_result"
    }
   ],
   "source": [
    "companies_df"
   ]
  },
  {
   "cell_type": "markdown",
   "id": "15c7eded",
   "metadata": {},
   "source": [
    "## Read data from the CSV files"
   ]
  },
  {
   "cell_type": "code",
   "execution_count": 5,
   "id": "ffae475c",
   "metadata": {},
   "outputs": [],
   "source": [
    "general_data = \"./resources/general_data.csv\"\n",
    "employee_survey = \"./resources/employee_survey_data.csv\"\n",
    "manager_survey = \"./resources/manager_survey_data.csv\"\n",
    "\n",
    "general_df = pd.read_csv(general_data)\n",
    "employee_df = pd.read_csv(employee_survey)\n",
    "manager_df = pd.read_csv(manager_survey)"
   ]
  },
  {
   "cell_type": "markdown",
   "id": "a81b3c7d",
   "metadata": {},
   "source": [
    "# Transform"
   ]
  },
  {
   "cell_type": "markdown",
   "id": "7b40ba6e",
   "metadata": {},
   "source": [
    "We want to see how often and why workers change jobs. By looking at the effect that subjective measures like job performance\n",
    "and job satisfaction or financial incentives such as salary increases we hope to predict wheather an employee will stay, or move on. "
   ]
  },
  {
   "cell_type": "code",
   "execution_count": 6,
   "id": "0200afc8",
   "metadata": {},
   "outputs": [],
   "source": [
    "# EmployeeID is shared by all of the datasets so we set them as the index and join on them later.\n",
    "\n",
    "general_df = general_df.set_index(\"EmployeeID\")\n",
    "employee_df = employee_df.set_index(\"EmployeeID\")\n",
    "manager_df = manager_df.set_index(\"EmployeeID\")"
   ]
  },
  {
   "cell_type": "code",
   "execution_count": 7,
   "id": "7851e947",
   "metadata": {},
   "outputs": [],
   "source": [
    "# The employee dataframe contains self reported information about employees regarding job satisfaction\n",
    "# The manager dataframe contains information on employee performance as determined by a manager.\n",
    "\n",
    "# We join both of the dataframes together on EmployeeID.\n",
    "\n",
    "companies_df = employee_df.join(manager_df)"
   ]
  },
  {
   "cell_type": "code",
   "execution_count": 8,
   "id": "7b231ddb",
   "metadata": {},
   "outputs": [],
   "source": [
    "# From the general employee dataset we want to pull \"Attrition\" and \"NumCompaniesWorked\" to answer our question about\n",
    "# workers leaving the company. We alse grab \"PercentSalaryHike\" to answer our question about financial incentives.\n",
    "\n",
    "companies_df = companies_df.join(general_df[[\"NumCompaniesWorked\", \"Attrition\", \"PercentSalaryHike\"]], on=\"EmployeeID\")"
   ]
  },
  {
   "cell_type": "code",
   "execution_count": 9,
   "id": "2f26e444",
   "metadata": {},
   "outputs": [],
   "source": [
    "# Some rows are missing data, so we drop them in order to ensure that we have a complete picture.\n",
    "\n",
    "companies_df = companies_df.dropna()"
   ]
  },
  {
   "cell_type": "code",
   "execution_count": 10,
   "id": "b7d52b29",
   "metadata": {},
   "outputs": [
    {
     "data": {
      "text/html": [
       "<div>\n",
       "<style scoped>\n",
       "    .dataframe tbody tr th:only-of-type {\n",
       "        vertical-align: middle;\n",
       "    }\n",
       "\n",
       "    .dataframe tbody tr th {\n",
       "        vertical-align: top;\n",
       "    }\n",
       "\n",
       "    .dataframe thead th {\n",
       "        text-align: right;\n",
       "    }\n",
       "</style>\n",
       "<table border=\"1\" class=\"dataframe\">\n",
       "  <thead>\n",
       "    <tr style=\"text-align: right;\">\n",
       "      <th></th>\n",
       "      <th>EnvironmentSatisfaction</th>\n",
       "      <th>JobSatisfaction</th>\n",
       "      <th>WorkLifeBalance</th>\n",
       "      <th>JobInvolvement</th>\n",
       "      <th>PerformanceRating</th>\n",
       "      <th>NumCompaniesWorked</th>\n",
       "      <th>Attrition</th>\n",
       "      <th>PercentSalaryHike</th>\n",
       "    </tr>\n",
       "    <tr>\n",
       "      <th>EmployeeID</th>\n",
       "      <th></th>\n",
       "      <th></th>\n",
       "      <th></th>\n",
       "      <th></th>\n",
       "      <th></th>\n",
       "      <th></th>\n",
       "      <th></th>\n",
       "      <th></th>\n",
       "    </tr>\n",
       "  </thead>\n",
       "  <tbody>\n",
       "    <tr>\n",
       "      <th>1</th>\n",
       "      <td>3.0</td>\n",
       "      <td>4.0</td>\n",
       "      <td>2.0</td>\n",
       "      <td>3</td>\n",
       "      <td>3</td>\n",
       "      <td>1.0</td>\n",
       "      <td>No</td>\n",
       "      <td>11</td>\n",
       "    </tr>\n",
       "    <tr>\n",
       "      <th>2</th>\n",
       "      <td>3.0</td>\n",
       "      <td>2.0</td>\n",
       "      <td>4.0</td>\n",
       "      <td>2</td>\n",
       "      <td>4</td>\n",
       "      <td>0.0</td>\n",
       "      <td>Yes</td>\n",
       "      <td>23</td>\n",
       "    </tr>\n",
       "    <tr>\n",
       "      <th>3</th>\n",
       "      <td>2.0</td>\n",
       "      <td>2.0</td>\n",
       "      <td>1.0</td>\n",
       "      <td>3</td>\n",
       "      <td>3</td>\n",
       "      <td>1.0</td>\n",
       "      <td>No</td>\n",
       "      <td>15</td>\n",
       "    </tr>\n",
       "    <tr>\n",
       "      <th>4</th>\n",
       "      <td>4.0</td>\n",
       "      <td>4.0</td>\n",
       "      <td>3.0</td>\n",
       "      <td>2</td>\n",
       "      <td>3</td>\n",
       "      <td>3.0</td>\n",
       "      <td>No</td>\n",
       "      <td>11</td>\n",
       "    </tr>\n",
       "    <tr>\n",
       "      <th>5</th>\n",
       "      <td>4.0</td>\n",
       "      <td>1.0</td>\n",
       "      <td>3.0</td>\n",
       "      <td>3</td>\n",
       "      <td>3</td>\n",
       "      <td>4.0</td>\n",
       "      <td>No</td>\n",
       "      <td>12</td>\n",
       "    </tr>\n",
       "    <tr>\n",
       "      <th>...</th>\n",
       "      <td>...</td>\n",
       "      <td>...</td>\n",
       "      <td>...</td>\n",
       "      <td>...</td>\n",
       "      <td>...</td>\n",
       "      <td>...</td>\n",
       "      <td>...</td>\n",
       "      <td>...</td>\n",
       "    </tr>\n",
       "    <tr>\n",
       "      <th>4405</th>\n",
       "      <td>3.0</td>\n",
       "      <td>4.0</td>\n",
       "      <td>3.0</td>\n",
       "      <td>2</td>\n",
       "      <td>3</td>\n",
       "      <td>1.0</td>\n",
       "      <td>No</td>\n",
       "      <td>18</td>\n",
       "    </tr>\n",
       "    <tr>\n",
       "      <th>4406</th>\n",
       "      <td>4.0</td>\n",
       "      <td>1.0</td>\n",
       "      <td>3.0</td>\n",
       "      <td>3</td>\n",
       "      <td>3</td>\n",
       "      <td>3.0</td>\n",
       "      <td>No</td>\n",
       "      <td>17</td>\n",
       "    </tr>\n",
       "    <tr>\n",
       "      <th>4407</th>\n",
       "      <td>4.0</td>\n",
       "      <td>4.0</td>\n",
       "      <td>3.0</td>\n",
       "      <td>2</td>\n",
       "      <td>3</td>\n",
       "      <td>2.0</td>\n",
       "      <td>No</td>\n",
       "      <td>15</td>\n",
       "    </tr>\n",
       "    <tr>\n",
       "      <th>4408</th>\n",
       "      <td>1.0</td>\n",
       "      <td>3.0</td>\n",
       "      <td>3.0</td>\n",
       "      <td>3</td>\n",
       "      <td>4</td>\n",
       "      <td>0.0</td>\n",
       "      <td>No</td>\n",
       "      <td>20</td>\n",
       "    </tr>\n",
       "    <tr>\n",
       "      <th>4409</th>\n",
       "      <td>4.0</td>\n",
       "      <td>1.0</td>\n",
       "      <td>3.0</td>\n",
       "      <td>2</td>\n",
       "      <td>3</td>\n",
       "      <td>0.0</td>\n",
       "      <td>No</td>\n",
       "      <td>14</td>\n",
       "    </tr>\n",
       "  </tbody>\n",
       "</table>\n",
       "<p>4308 rows × 8 columns</p>\n",
       "</div>"
      ],
      "text/plain": [
       "            EnvironmentSatisfaction  JobSatisfaction  WorkLifeBalance  \\\n",
       "EmployeeID                                                              \n",
       "1                               3.0              4.0              2.0   \n",
       "2                               3.0              2.0              4.0   \n",
       "3                               2.0              2.0              1.0   \n",
       "4                               4.0              4.0              3.0   \n",
       "5                               4.0              1.0              3.0   \n",
       "...                             ...              ...              ...   \n",
       "4405                            3.0              4.0              3.0   \n",
       "4406                            4.0              1.0              3.0   \n",
       "4407                            4.0              4.0              3.0   \n",
       "4408                            1.0              3.0              3.0   \n",
       "4409                            4.0              1.0              3.0   \n",
       "\n",
       "            JobInvolvement  PerformanceRating  NumCompaniesWorked Attrition  \\\n",
       "EmployeeID                                                                    \n",
       "1                        3                  3                 1.0        No   \n",
       "2                        2                  4                 0.0       Yes   \n",
       "3                        3                  3                 1.0        No   \n",
       "4                        2                  3                 3.0        No   \n",
       "5                        3                  3                 4.0        No   \n",
       "...                    ...                ...                 ...       ...   \n",
       "4405                     2                  3                 1.0        No   \n",
       "4406                     3                  3                 3.0        No   \n",
       "4407                     2                  3                 2.0        No   \n",
       "4408                     3                  4                 0.0        No   \n",
       "4409                     2                  3                 0.0        No   \n",
       "\n",
       "            PercentSalaryHike  \n",
       "EmployeeID                     \n",
       "1                          11  \n",
       "2                          23  \n",
       "3                          15  \n",
       "4                          11  \n",
       "5                          12  \n",
       "...                       ...  \n",
       "4405                       18  \n",
       "4406                       17  \n",
       "4407                       15  \n",
       "4408                       20  \n",
       "4409                       14  \n",
       "\n",
       "[4308 rows x 8 columns]"
      ]
     },
     "execution_count": 10,
     "metadata": {},
     "output_type": "execute_result"
    }
   ],
   "source": [
    "companies_df"
   ]
  },
  {
   "cell_type": "code",
   "execution_count": 11,
   "id": "bd8f72e2",
   "metadata": {},
   "outputs": [
    {
     "data": {
      "text/plain": [
       "EnvironmentSatisfaction    4308\n",
       "JobSatisfaction            4308\n",
       "WorkLifeBalance            4308\n",
       "JobInvolvement             4308\n",
       "PerformanceRating          4308\n",
       "NumCompaniesWorked         4308\n",
       "Attrition                  4308\n",
       "PercentSalaryHike          4308\n",
       "dtype: int64"
      ]
     },
     "execution_count": 11,
     "metadata": {},
     "output_type": "execute_result"
    }
   ],
   "source": [
    "# Double check the counts to make sure that all columns are filled.\n",
    "\n",
    "companies_df.count()"
   ]
  },
  {
   "cell_type": "code",
   "execution_count": 12,
   "id": "cbb0ff75",
   "metadata": {},
   "outputs": [
    {
     "name": "stdout",
     "output_type": "stream",
     "text": [
      "EnvironmentSatisfaction    float64\n",
      "JobSatisfaction            float64\n",
      "WorkLifeBalance            float64\n",
      "JobInvolvement               int64\n",
      "PerformanceRating            int64\n",
      "NumCompaniesWorked         float64\n",
      "Attrition                   object\n",
      "PercentSalaryHike            int64\n",
      "dtype: object\n"
     ]
    }
   ],
   "source": [
    "# Even though we have only whole numbers in the dataframe, some are considered floats and others int64.\n",
    "\n",
    "print(companies_df.dtypes)"
   ]
  },
  {
   "cell_type": "code",
   "execution_count": 13,
   "id": "e3629a9d",
   "metadata": {},
   "outputs": [
    {
     "name": "stdout",
     "output_type": "stream",
     "text": [
      "EnvironmentSatisfaction     int32\n",
      "JobSatisfaction             int32\n",
      "WorkLifeBalance             int32\n",
      "JobInvolvement              int32\n",
      "PerformanceRating           int32\n",
      "NumCompaniesWorked          int32\n",
      "Attrition                  object\n",
      "PercentSalaryHike           int32\n",
      "dtype: object\n"
     ]
    }
   ],
   "source": [
    "# In order to make the database cleaner and save space we convert everything int32.\n",
    "\n",
    "companies_df = companies_df.astype({\n",
    "    \"EnvironmentSatisfaction\":\"int32\",\n",
    "    \"JobSatisfaction\":\"int32\",\n",
    "    \"WorkLifeBalance\":\"int32\",\n",
    "    \"JobInvolvement\":\"int32\",\n",
    "    \"PerformanceRating\":\"int32\",\n",
    "    \"NumCompaniesWorked\":\"int32\",\n",
    "    \"PercentSalaryHike\":\"int32\"   \n",
    "})\n",
    "\n",
    "print(companies_df.dtypes)"
   ]
  },
  {
   "cell_type": "code",
   "execution_count": 14,
   "id": "580ce854",
   "metadata": {},
   "outputs": [],
   "source": [
    "# We noticed that when making queries in SQL, columns with capilization needed to be surrounded with quotation marks\n",
    "# this is a bit tedious to do, so in order to make working with this dataset in SQL easier and more readable we rename\n",
    "# all the columns to be in snake case, lowercase with underscores seperating words.\n",
    "\n",
    "companies_df.rename(columns={\n",
    "    \"EnvironmentSatisfaction\":\"environment_satisfaction\",\n",
    "    \"JobSatisfaction\":\"job_satisfaction\",\n",
    "    \"WorkLifeBalance\":\"work_life_balance\",\n",
    "    \"JobInvolvement\":\"job_involvement\",\n",
    "    \"PerformanceRating\":\"performance_rating\",\n",
    "    \"NumCompaniesWorked\":\"num_companies_worked\",\n",
    "    \"Attrition\":\"attrition\",\n",
    "    \"PercentSalaryHike\":\"percent_salary_hike\"\n",
    "}, inplace=True)\n",
    "\n",
    "companies_df.index.names = [\"employee_id\"]"
   ]
  },
  {
   "cell_type": "markdown",
   "id": "e5196ba9",
   "metadata": {},
   "source": [
    "## Analysis "
   ]
  },
  {
   "cell_type": "code",
   "execution_count": 15,
   "id": "536958c0",
   "metadata": {},
   "outputs": [
    {
     "data": {
      "text/html": [
       "<div>\n",
       "<style scoped>\n",
       "    .dataframe tbody tr th:only-of-type {\n",
       "        vertical-align: middle;\n",
       "    }\n",
       "\n",
       "    .dataframe tbody tr th {\n",
       "        vertical-align: top;\n",
       "    }\n",
       "\n",
       "    .dataframe thead th {\n",
       "        text-align: right;\n",
       "    }\n",
       "</style>\n",
       "<table border=\"1\" class=\"dataframe\">\n",
       "  <thead>\n",
       "    <tr style=\"text-align: right;\">\n",
       "      <th></th>\n",
       "      <th>num_companies_worked</th>\n",
       "    </tr>\n",
       "    <tr>\n",
       "      <th>attrition</th>\n",
       "      <th></th>\n",
       "    </tr>\n",
       "  </thead>\n",
       "  <tbody>\n",
       "    <tr>\n",
       "      <th>No</th>\n",
       "      <td>2.644697</td>\n",
       "    </tr>\n",
       "    <tr>\n",
       "      <th>Yes</th>\n",
       "      <td>2.938307</td>\n",
       "    </tr>\n",
       "  </tbody>\n",
       "</table>\n",
       "</div>"
      ],
      "text/plain": [
       "           num_companies_worked\n",
       "attrition                      \n",
       "No                     2.644697\n",
       "Yes                    2.938307"
      ]
     },
     "execution_count": 15,
     "metadata": {},
     "output_type": "execute_result"
    },
    {
     "data": {
      "image/png": "[encoded data removed]",
      "text/plain": [
       "<Figure size 432x288 with 1 Axes>"
      ]
     },
     "metadata": {
      "needs_background": "light"
     },
     "output_type": "display_data"
    }
   ],
   "source": [
    "# We can see here that employees that attrit (quit) work for more companies on average.\n",
    "\n",
    "companies_df[[\"attrition\", \"num_companies_worked\"]].groupby(\"attrition\").mean().plot(kind=\"bar\", legend=False, ylabel=\"Average Companies Worked\", xlabel=\"Attrition\", ylim=[2,3])\n",
    "companies_df[[\"attrition\", \"num_companies_worked\"]].groupby(\"attrition\").mean()"
   ]
  },
  {
   "cell_type": "code",
   "execution_count": 16,
   "id": "cb0edbfc",
   "metadata": {},
   "outputs": [
    {
     "data": {
      "text/html": [
       "<div>\n",
       "<style scoped>\n",
       "    .dataframe tbody tr th:only-of-type {\n",
       "        vertical-align: middle;\n",
       "    }\n",
       "\n",
       "    .dataframe tbody tr th {\n",
       "        vertical-align: top;\n",
       "    }\n",
       "\n",
       "    .dataframe thead th {\n",
       "        text-align: right;\n",
       "    }\n",
       "</style>\n",
       "<table border=\"1\" class=\"dataframe\">\n",
       "  <thead>\n",
       "    <tr style=\"text-align: right;\">\n",
       "      <th></th>\n",
       "      <th>job_satisfaction</th>\n",
       "    </tr>\n",
       "    <tr>\n",
       "      <th>attrition</th>\n",
       "      <th></th>\n",
       "    </tr>\n",
       "  </thead>\n",
       "  <tbody>\n",
       "    <tr>\n",
       "      <th>No</th>\n",
       "      <td>2.775408</td>\n",
       "    </tr>\n",
       "    <tr>\n",
       "      <th>Yes</th>\n",
       "      <td>2.466284</td>\n",
       "    </tr>\n",
       "  </tbody>\n",
       "</table>\n",
       "</div>"
      ],
      "text/plain": [
       "           job_satisfaction\n",
       "attrition                  \n",
       "No                 2.775408\n",
       "Yes                2.466284"
      ]
     },
     "execution_count": 16,
     "metadata": {},
     "output_type": "execute_result"
    },
    {
     "data": {
      "image/png": "[encoded data removed]",
      "text/plain": [
       "<Figure size 432x288 with 1 Axes>"
      ]
     },
     "metadata": {
      "needs_background": "light"
     },
     "output_type": "display_data"
    }
   ],
   "source": [
    "# Employees that quit show lower job satisfaction.\n",
    "\n",
    "companies_df[[\"attrition\", \"job_satisfaction\"]].groupby(\"attrition\").mean().plot(kind=\"bar\", legend=False, ylabel=\"Job Satisfaction\", xlabel=\"Attrition\", ylim=[2,3])\n",
    "companies_df[[\"attrition\", \"job_satisfaction\"]].groupby(\"attrition\").mean()"
   ]
  },
  {
   "cell_type": "code",
   "execution_count": 17,
   "id": "7f764c5a",
   "metadata": {},
   "outputs": [
    {
     "data": {
      "text/html": [
       "<div>\n",
       "<style scoped>\n",
       "    .dataframe tbody tr th:only-of-type {\n",
       "        vertical-align: middle;\n",
       "    }\n",
       "\n",
       "    .dataframe tbody tr th {\n",
       "        vertical-align: top;\n",
       "    }\n",
       "\n",
       "    .dataframe thead th {\n",
       "        text-align: right;\n",
       "    }\n",
       "</style>\n",
       "<table border=\"1\" class=\"dataframe\">\n",
       "  <thead>\n",
       "    <tr style=\"text-align: right;\">\n",
       "      <th></th>\n",
       "      <th>work_life_balance</th>\n",
       "    </tr>\n",
       "    <tr>\n",
       "      <th>attrition</th>\n",
       "      <th></th>\n",
       "    </tr>\n",
       "  </thead>\n",
       "  <tbody>\n",
       "    <tr>\n",
       "      <th>No</th>\n",
       "      <td>2.780116</td>\n",
       "    </tr>\n",
       "    <tr>\n",
       "      <th>Yes</th>\n",
       "      <td>2.665710</td>\n",
       "    </tr>\n",
       "  </tbody>\n",
       "</table>\n",
       "</div>"
      ],
      "text/plain": [
       "           work_life_balance\n",
       "attrition                   \n",
       "No                  2.780116\n",
       "Yes                 2.665710"
      ]
     },
     "execution_count": 17,
     "metadata": {},
     "output_type": "execute_result"
    },
    {
     "data": {
      "image/png": "[encoded data removed]",
      "text/plain": [
       "<Figure size 432x288 with 1 Axes>"
      ]
     },
     "metadata": {
      "needs_background": "light"
     },
     "output_type": "display_data"
    }
   ],
   "source": [
    "# Employees that quit report a lower work/life balance, although the difference is not as great as job satisfaction.\n",
    "\n",
    "companies_df[[\"attrition\", \"work_life_balance\"]].groupby(\"attrition\").mean().plot(kind=\"bar\", legend=False, ylabel=\"Work Life Balance\", xlabel=\"Attrition\", ylim=[2,3])\n",
    "companies_df[[\"attrition\", \"work_life_balance\"]].groupby(\"attrition\").mean()"
   ]
  },
  {
   "cell_type": "code",
   "execution_count": 18,
   "id": "e80d681d",
   "metadata": {},
   "outputs": [
    {
     "data": {
      "text/html": [
       "<div>\n",
       "<style scoped>\n",
       "    .dataframe tbody tr th:only-of-type {\n",
       "        vertical-align: middle;\n",
       "    }\n",
       "\n",
       "    .dataframe tbody tr th {\n",
       "        vertical-align: top;\n",
       "    }\n",
       "\n",
       "    .dataframe thead th {\n",
       "        text-align: right;\n",
       "    }\n",
       "</style>\n",
       "<table border=\"1\" class=\"dataframe\">\n",
       "  <thead>\n",
       "    <tr style=\"text-align: right;\">\n",
       "      <th></th>\n",
       "      <th>job_involvement</th>\n",
       "    </tr>\n",
       "    <tr>\n",
       "      <th>attrition</th>\n",
       "      <th></th>\n",
       "    </tr>\n",
       "  </thead>\n",
       "  <tbody>\n",
       "    <tr>\n",
       "      <th>No</th>\n",
       "      <td>2.732484</td>\n",
       "    </tr>\n",
       "    <tr>\n",
       "      <th>Yes</th>\n",
       "      <td>2.705882</td>\n",
       "    </tr>\n",
       "  </tbody>\n",
       "</table>\n",
       "</div>"
      ],
      "text/plain": [
       "           job_involvement\n",
       "attrition                 \n",
       "No                2.732484\n",
       "Yes               2.705882"
      ]
     },
     "execution_count": 18,
     "metadata": {},
     "output_type": "execute_result"
    },
    {
     "data": {
      "image/png": "[encoded data removed]",
      "text/plain": [
       "<Figure size 432x288 with 1 Axes>"
      ]
     },
     "metadata": {
      "needs_background": "light"
     },
     "output_type": "display_data"
    }
   ],
   "source": [
    "# Job involement has little impact on attrition.\n",
    "\n",
    "companies_df[[\"attrition\", \"job_involvement\"]].groupby(\"attrition\").mean().plot(kind=\"bar\", legend=False, ylabel=\"Job Involement\", xlabel=\"Attrition\", ylim=[2,3])\n",
    "companies_df[[\"attrition\", \"job_involvement\"]].groupby(\"attrition\").mean()"
   ]
  },
  {
   "cell_type": "code",
   "execution_count": 19,
   "id": "ecb1e742",
   "metadata": {},
   "outputs": [
    {
     "data": {
      "text/html": [
       "<div>\n",
       "<style scoped>\n",
       "    .dataframe tbody tr th:only-of-type {\n",
       "        vertical-align: middle;\n",
       "    }\n",
       "\n",
       "    .dataframe tbody tr th {\n",
       "        vertical-align: top;\n",
       "    }\n",
       "\n",
       "    .dataframe thead th {\n",
       "        text-align: right;\n",
       "    }\n",
       "</style>\n",
       "<table border=\"1\" class=\"dataframe\">\n",
       "  <thead>\n",
       "    <tr style=\"text-align: right;\">\n",
       "      <th></th>\n",
       "      <th>environment_satisfaction</th>\n",
       "    </tr>\n",
       "    <tr>\n",
       "      <th>attrition</th>\n",
       "      <th></th>\n",
       "    </tr>\n",
       "  </thead>\n",
       "  <tbody>\n",
       "    <tr>\n",
       "      <th>No</th>\n",
       "      <td>2.774024</td>\n",
       "    </tr>\n",
       "    <tr>\n",
       "      <th>Yes</th>\n",
       "      <td>2.466284</td>\n",
       "    </tr>\n",
       "  </tbody>\n",
       "</table>\n",
       "</div>"
      ],
      "text/plain": [
       "           environment_satisfaction\n",
       "attrition                          \n",
       "No                         2.774024\n",
       "Yes                        2.466284"
      ]
     },
     "execution_count": 19,
     "metadata": {},
     "output_type": "execute_result"
    },
    {
     "data": {
      "image/png": "[encoded data removed]",
      "text/plain": [
       "<Figure size 432x288 with 1 Axes>"
      ]
     },
     "metadata": {
      "needs_background": "light"
     },
     "output_type": "display_data"
    }
   ],
   "source": [
    "# Environment satisfaction seems to have a significant impact on attrition rate.\n",
    "\n",
    "companies_df[[\"attrition\", \"environment_satisfaction\"]].groupby(\"attrition\").mean().plot(kind=\"bar\", legend=False, ylabel=\"Environment Satisfaction\", xlabel=\"Attrition\", ylim=[2,3])\n",
    "companies_df[[\"attrition\", \"environment_satisfaction\"]].groupby(\"attrition\").mean()"
   ]
  },
  {
   "cell_type": "code",
   "execution_count": 20,
   "id": "7e1f3150",
   "metadata": {},
   "outputs": [
    {
     "data": {
      "text/html": [
       "<div>\n",
       "<style scoped>\n",
       "    .dataframe tbody tr th:only-of-type {\n",
       "        vertical-align: middle;\n",
       "    }\n",
       "\n",
       "    .dataframe tbody tr th {\n",
       "        vertical-align: top;\n",
       "    }\n",
       "\n",
       "    .dataframe thead th {\n",
       "        text-align: right;\n",
       "    }\n",
       "</style>\n",
       "<table border=\"1\" class=\"dataframe\">\n",
       "  <thead>\n",
       "    <tr style=\"text-align: right;\">\n",
       "      <th></th>\n",
       "      <th>performance_rating</th>\n",
       "    </tr>\n",
       "    <tr>\n",
       "      <th>attrition</th>\n",
       "      <th></th>\n",
       "    </tr>\n",
       "  </thead>\n",
       "  <tbody>\n",
       "    <tr>\n",
       "      <th>No</th>\n",
       "      <td>3.150097</td>\n",
       "    </tr>\n",
       "    <tr>\n",
       "      <th>Yes</th>\n",
       "      <td>3.175036</td>\n",
       "    </tr>\n",
       "  </tbody>\n",
       "</table>\n",
       "</div>"
      ],
      "text/plain": [
       "           performance_rating\n",
       "attrition                    \n",
       "No                   3.150097\n",
       "Yes                  3.175036"
      ]
     },
     "execution_count": 20,
     "metadata": {},
     "output_type": "execute_result"
    },
    {
     "data": {
      "image/png": "[encoded data removed]",
      "text/plain": [
       "<Figure size 432x288 with 1 Axes>"
      ]
     },
     "metadata": {
      "needs_background": "light"
     },
     "output_type": "display_data"
    }
   ],
   "source": [
    "# It also seems that attrition has little to no impact on performance rating.\n",
    "\n",
    "companies_df[[\"attrition\", \"performance_rating\"]].groupby(\"attrition\").mean().plot(kind=\"bar\", legend=False, ylabel=\"performance_rating\", ylim=[2,4])\n",
    "companies_df[[\"attrition\", \"performance_rating\"]].groupby(\"attrition\").mean()"
   ]
  },
  {
   "cell_type": "code",
   "execution_count": 21,
   "id": "a9b40935",
   "metadata": {},
   "outputs": [
    {
     "data": {
      "text/plain": [
       "<AxesSubplot:ylabel='Attrition'>"
      ]
     },
     "execution_count": 21,
     "metadata": {},
     "output_type": "execute_result"
    },
    {
     "data": {
      "image/png": "[encoded data removed]",
      "text/plain": [
       "<Figure size 432x288 with 1 Axes>"
      ]
     },
     "metadata": {},
     "output_type": "display_data"
    }
   ],
   "source": [
    "# Only 16% of employees in the dataset have quit.\n",
    "\n",
    "companies_df[[\"attrition\", \"job_satisfaction\"]].groupby(\"attrition\").count().plot(kind=\"pie\", y=\"job_satisfaction\", ylabel=\"Attrition\", autopct='%1.1f%%', legend=False)"
   ]
  },
  {
   "cell_type": "code",
   "execution_count": 22,
   "id": "b962083b",
   "metadata": {},
   "outputs": [
    {
     "data": {
      "text/plain": [
       "<AxesSubplot:xlabel='Number of Companies Worked', ylabel='Average Job Satisfaction'>"
      ]
     },
     "execution_count": 22,
     "metadata": {},
     "output_type": "execute_result"
    },
    {
     "data": {
      "image/png": "[encoded data removed]",
      "text/plain": [
       "<Figure size 432x288 with 1 Axes>"
      ]
     },
     "metadata": {
      "needs_background": "light"
     },
     "output_type": "display_data"
    }
   ],
   "source": [
    "# Breaking down job satisfaction based on number of companies worked it seems that employees that have\n",
    "# worked at 4 or less companies tend to be more satisfied with their jobs.\n",
    "\n",
    "companies_df[[\"job_satisfaction\", \"num_companies_worked\"]].groupby(\"num_companies_worked\").mean().plot(kind=\"line\", legend=False, ylim=[2.4,3], xlabel=\"Number of Companies Worked\", ylabel=\"Average Job Satisfaction\")"
   ]
  },
  {
   "cell_type": "code",
   "execution_count": 23,
   "id": "e4dc7f09",
   "metadata": {},
   "outputs": [
    {
     "data": {
      "text/plain": [
       "<AxesSubplot:xlabel='Number of Companies Worked', ylabel='Work/Life Balance'>"
      ]
     },
     "execution_count": 23,
     "metadata": {},
     "output_type": "execute_result"
    },
    {
     "data": {
      "image/png": "[encoded data removed]",
      "text/plain": [
       "<Figure size 432x288 with 1 Axes>"
      ]
     },
     "metadata": {
      "needs_background": "light"
     },
     "output_type": "display_data"
    }
   ],
   "source": [
    "# It appears that employees that have worked at more than 4 companies report worse work/life balance than those\n",
    "# who work for 4 or less.\n",
    "\n",
    "companies_df[[\"work_life_balance\", \"num_companies_worked\"]].groupby(\"num_companies_worked\").mean().plot(kind=\"line\", legend=False, ylim=[2.4,3], xlabel=\"Number of Companies Worked\", ylabel=\"Work/Life Balance\")"
   ]
  },
  {
   "cell_type": "code",
   "execution_count": 24,
   "id": "25b2bd39",
   "metadata": {},
   "outputs": [
    {
     "data": {
      "text/plain": [
       "<AxesSubplot:xlabel='Number of Companies Worked', ylabel='Job Performance'>"
      ]
     },
     "execution_count": 24,
     "metadata": {},
     "output_type": "execute_result"
    },
    {
     "data": {
      "image/png": "[encoded data removed]",
      "text/plain": [
       "<Figure size 432x288 with 1 Axes>"
      ]
     },
     "metadata": {
      "needs_background": "light"
     },
     "output_type": "display_data"
    }
   ],
   "source": [
    "# Job permance rating seems to be faily regular accross the board.\n",
    "\n",
    "companies_df[[\"performance_rating\", \"num_companies_worked\"]].groupby(\"num_companies_worked\").mean().plot(kind=\"line\", legend=False, ylim=[3,3.5], xlabel=\"Number of Companies Worked\", ylabel=\"Job Performance\")"
   ]
  },
  {
   "cell_type": "code",
   "execution_count": 25,
   "id": "7558ee9f",
   "metadata": {},
   "outputs": [
    {
     "data": {
      "text/plain": [
       "<AxesSubplot:ylabel='Number of Companies Worked'>"
      ]
     },
     "execution_count": 25,
     "metadata": {},
     "output_type": "execute_result"
    },
    {
     "data": {
      "image/png": "[encoded data removed]",
      "text/plain": [
       "<Figure size 504x504 with 1 Axes>"
      ]
     },
     "metadata": {},
     "output_type": "display_data"
    }
   ],
   "source": [
    "# A plurality of employees have only worked for 1 previous employeer, with most employees working for 2 or less.\n",
    "\n",
    "companies_df[[\"job_satisfaction\", \"num_companies_worked\"]].groupby(\"num_companies_worked\").count().plot(kind=\"pie\", y='job_satisfaction', autopct='%1.1f%%', legend=False, ylabel=\"Number of Companies Worked\", figsize=[7,7])"
   ]
  },
  {
   "cell_type": "code",
   "execution_count": 26,
   "id": "215640a5",
   "metadata": {},
   "outputs": [
    {
     "data": {
      "text/html": [
       "<div>\n",
       "<style scoped>\n",
       "    .dataframe tbody tr th:only-of-type {\n",
       "        vertical-align: middle;\n",
       "    }\n",
       "\n",
       "    .dataframe tbody tr th {\n",
       "        vertical-align: top;\n",
       "    }\n",
       "\n",
       "    .dataframe thead th {\n",
       "        text-align: right;\n",
       "    }\n",
       "</style>\n",
       "<table border=\"1\" class=\"dataframe\">\n",
       "  <thead>\n",
       "    <tr style=\"text-align: right;\">\n",
       "      <th></th>\n",
       "      <th>percent_salary_hike</th>\n",
       "    </tr>\n",
       "    <tr>\n",
       "      <th>attrition</th>\n",
       "      <th></th>\n",
       "    </tr>\n",
       "  </thead>\n",
       "  <tbody>\n",
       "    <tr>\n",
       "      <th>No</th>\n",
       "      <td>15.159236</td>\n",
       "    </tr>\n",
       "    <tr>\n",
       "      <th>Yes</th>\n",
       "      <td>15.494978</td>\n",
       "    </tr>\n",
       "  </tbody>\n",
       "</table>\n",
       "</div>"
      ],
      "text/plain": [
       "           percent_salary_hike\n",
       "attrition                     \n",
       "No                   15.159236\n",
       "Yes                  15.494978"
      ]
     },
     "execution_count": 26,
     "metadata": {},
     "output_type": "execute_result"
    },
    {
     "data": {
      "image/png": "[encoded data removed]",
      "text/plain": [
       "<Figure size 432x288 with 1 Axes>"
      ]
     },
     "metadata": {
      "needs_background": "light"
     },
     "output_type": "display_data"
    }
   ],
   "source": [
    "# Employees who leave receive larger salary hikes than those who stay.\n",
    "\n",
    "companies_df[[\"attrition\", \"percent_salary_hike\"]].groupby(\"attrition\").mean().plot(kind=\"bar\", legend=False, ylabel=\"PercentSalaryHike\", xlabel=\"Attrition\", ylim=[14,16])\n",
    "companies_df[[\"attrition\", \"percent_salary_hike\"]].groupby(\"attrition\").mean()"
   ]
  },
  {
   "cell_type": "code",
   "execution_count": 27,
   "id": "74ae8ea2",
   "metadata": {},
   "outputs": [
    {
     "data": {
      "text/html": [
       "<div>\n",
       "<style scoped>\n",
       "    .dataframe tbody tr th:only-of-type {\n",
       "        vertical-align: middle;\n",
       "    }\n",
       "\n",
       "    .dataframe tbody tr th {\n",
       "        vertical-align: top;\n",
       "    }\n",
       "\n",
       "    .dataframe thead th {\n",
       "        text-align: right;\n",
       "    }\n",
       "</style>\n",
       "<table border=\"1\" class=\"dataframe\">\n",
       "  <thead>\n",
       "    <tr style=\"text-align: right;\">\n",
       "      <th></th>\n",
       "      <th>percent_salary_hike</th>\n",
       "    </tr>\n",
       "    <tr>\n",
       "      <th>performance_rating</th>\n",
       "      <th></th>\n",
       "    </tr>\n",
       "  </thead>\n",
       "  <tbody>\n",
       "    <tr>\n",
       "      <th>3</th>\n",
       "      <td>14.003293</td>\n",
       "    </tr>\n",
       "    <tr>\n",
       "      <th>4</th>\n",
       "      <td>21.855422</td>\n",
       "    </tr>\n",
       "  </tbody>\n",
       "</table>\n",
       "</div>"
      ],
      "text/plain": [
       "                    percent_salary_hike\n",
       "performance_rating                     \n",
       "3                             14.003293\n",
       "4                             21.855422"
      ]
     },
     "execution_count": 27,
     "metadata": {},
     "output_type": "execute_result"
    },
    {
     "data": {
      "image/png": "[encoded data removed]",
      "text/plain": [
       "<Figure size 432x288 with 1 Axes>"
      ]
     },
     "metadata": {
      "needs_background": "light"
     },
     "output_type": "display_data"
    }
   ],
   "source": [
    "# Employees with higher performance ratings receive higher salary hikes.\n",
    "\n",
    "companies_df[[\"performance_rating\", \"percent_salary_hike\"]].groupby(\"performance_rating\").mean().plot(kind=\"bar\", legend=False, ylabel=\"Mean Percent Salary Hike\", xlabel=\"Attrition\", ylim=[0,25])\n",
    "companies_df[[\"performance_rating\", \"percent_salary_hike\"]].groupby(\"performance_rating\").mean()"
   ]
  },
  {
   "cell_type": "code",
   "execution_count": 28,
   "id": "8cf8defe",
   "metadata": {},
   "outputs": [
    {
     "data": {
      "text/html": [
       "<div>\n",
       "<style scoped>\n",
       "    .dataframe tbody tr th:only-of-type {\n",
       "        vertical-align: middle;\n",
       "    }\n",
       "\n",
       "    .dataframe tbody tr th {\n",
       "        vertical-align: top;\n",
       "    }\n",
       "\n",
       "    .dataframe thead th {\n",
       "        text-align: right;\n",
       "    }\n",
       "</style>\n",
       "<table border=\"1\" class=\"dataframe\">\n",
       "  <thead>\n",
       "    <tr style=\"text-align: right;\">\n",
       "      <th></th>\n",
       "      <th>percent_salary_hike</th>\n",
       "    </tr>\n",
       "    <tr>\n",
       "      <th>job_satisfaction</th>\n",
       "      <th></th>\n",
       "    </tr>\n",
       "  </thead>\n",
       "  <tbody>\n",
       "    <tr>\n",
       "      <th>1</th>\n",
       "      <td>14.969303</td>\n",
       "    </tr>\n",
       "    <tr>\n",
       "      <th>2</th>\n",
       "      <td>15.283636</td>\n",
       "    </tr>\n",
       "    <tr>\n",
       "      <th>3</th>\n",
       "      <td>15.115385</td>\n",
       "    </tr>\n",
       "    <tr>\n",
       "      <th>4</th>\n",
       "      <td>15.420659</td>\n",
       "    </tr>\n",
       "  </tbody>\n",
       "</table>\n",
       "</div>"
      ],
      "text/plain": [
       "                  percent_salary_hike\n",
       "job_satisfaction                     \n",
       "1                           14.969303\n",
       "2                           15.283636\n",
       "3                           15.115385\n",
       "4                           15.420659"
      ]
     },
     "execution_count": 28,
     "metadata": {},
     "output_type": "execute_result"
    },
    {
     "data": {
      "image/png": "[encoded data removed]",
      "text/plain": [
       "<Figure size 432x288 with 1 Axes>"
      ]
     },
     "metadata": {
      "needs_background": "light"
     },
     "output_type": "display_data"
    }
   ],
   "source": [
    "# Employees with higer salary increases also have higher job satisfaction.\n",
    "\n",
    "companies_df[[\"job_satisfaction\", \"percent_salary_hike\"]].groupby(\"job_satisfaction\").mean().plot(kind=\"bar\", legend=False, ylabel=\"Mean Salary Hike\", xlabel=\"Job Satisfaction\", ylim=[14,16])\n",
    "companies_df[[\"job_satisfaction\", \"percent_salary_hike\"]].groupby(\"job_satisfaction\").mean()"
   ]
  },
  {
   "cell_type": "markdown",
   "id": "c514ce57",
   "metadata": {},
   "source": [
    "# Load "
   ]
  },
  {
   "cell_type": "code",
   "execution_count": 29,
   "id": "60a8d464",
   "metadata": {},
   "outputs": [],
   "source": [
    "# With transformation and analysis completed we can load this into a sql database for later.\n",
    "\n",
    "from postgres_login import username, password, connection\n",
    "\n",
    "connection_string = connection_string = f\"{username}:{password}@localhost:{connection}/project2\"\n",
    "engine = create_engine(f'postgresql://{connection_string}')"
   ]
  },
  {
   "cell_type": "code",
   "execution_count": 30,
   "id": "38c249bb",
   "metadata": {},
   "outputs": [
    {
     "name": "stdout",
     "output_type": "stream",
     "text": [
      "Table already exists, do you want to replace?(y/n): y\n",
      "Dataset loaded to SQL\n"
     ]
    }
   ],
   "source": [
    "# When loading we raise an error if the dataset already exists and ask the user for confirmation if they would like \n",
    "# to replace the existing dataset.\n",
    "\n",
    "try:\n",
    "    companies_df.to_sql(name=\"company_data\", con=engine, if_exists=\"fail\", index=True)\n",
    "    print(\"Dataset loaded to SQL\")\n",
    "except:\n",
    "    answer = input(\"Table already exists, do you want to replace?(y/n): \").lower()\n",
    "    if answer[0] == \"y\":\n",
    "        companies_df.to_sql(name=\"company_data\", con=engine, if_exists=\"replace\", index=True)\n",
    "        print(\"Dataset loaded to SQL\")\n",
    "    else:\n",
    "        print(\"SQL load canceled\")"
   ]
  }
 ],
 "metadata": {
  "kernelspec": {
   "display_name": "Python 3 (ipykernel)",
   "language": "python",
   "name": "python3"
  },
  "language_info": {
   "codemirror_mode": {
    "name": "ipython",
    "version": 3
   },
   "file_extension": ".py",
   "mimetype": "text/x-python",
   "name": "python",
   "nbconvert_exporter": "python",
   "pygments_lexer": "ipython3",
   "version": "3.9.7"
  }
 },
 "nbformat": 4,
 "nbformat_minor": 5
}
