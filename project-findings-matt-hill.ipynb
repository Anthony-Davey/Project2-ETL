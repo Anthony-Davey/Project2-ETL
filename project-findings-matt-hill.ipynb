{
 "cells": [
  {
   "cell_type": "code",
   "execution_count": 2,
   "id": "a9e7aa7f",
   "metadata": {},
   "outputs": [],
   "source": [
    "import pandas as pd"
   ]
  },
  {
   "cell_type": "code",
   "execution_count": 3,
   "id": "4c1a4220",
   "metadata": {},
   "outputs": [],
   "source": [
    "general_data = \"./resources/general_data.csv\"\n",
    "employee_survey = \"./resources/employee_survey_data.csv\"\n",
    "manager_survey = \"./resources/manager_survey_data.csv\"\n",
    "\n",
    "general_df = pd.read_csv(general_data)\n",
    "employee_df = pd.read_csv(employee_survey)\n",
    "manager_df = pd.read_csv(manager_survey)"
   ]
  },
  {
   "cell_type": "code",
   "execution_count": 4,
   "id": "cc27ce5e",
   "metadata": {},
   "outputs": [],
   "source": [
    "general_df = general_df.set_index(\"EmployeeID\")\n",
    "employee_df = employee_df.set_index(\"EmployeeID\")\n",
    "manager_df = manager_df.set_index(\"EmployeeID\")"
   ]
  },
  {
   "cell_type": "code",
   "execution_count": 5,
   "id": "0b1490e0",
   "metadata": {},
   "outputs": [
    {
     "data": {
      "text/plain": [
       "Index(['Age', 'Attrition', 'BusinessTravel', 'Department', 'DistanceFromHome',\n",
       "       'Education', 'EducationField', 'EmployeeCount', 'Gender', 'JobLevel',\n",
       "       'JobRole', 'MaritalStatus', 'MonthlyIncome', 'NumCompaniesWorked',\n",
       "       'Over18', 'PercentSalaryHike', 'StandardHours', 'StockOptionLevel',\n",
       "       'TotalWorkingYears', 'TrainingTimesLastYear', 'YearsAtCompany',\n",
       "       'YearsSinceLastPromotion', 'YearsWithCurrManager'],\n",
       "      dtype='object')"
      ]
     },
     "execution_count": 5,
     "metadata": {},
     "output_type": "execute_result"
    }
   ],
   "source": [
    "general_df.columns"
   ]
  },
  {
   "cell_type": "code",
   "execution_count": 6,
   "id": "e0ecaba0",
   "metadata": {},
   "outputs": [
    {
     "data": {
      "text/plain": [
       "Index(['EnvironmentSatisfaction', 'JobSatisfaction', 'WorkLifeBalance'], dtype='object')"
      ]
     },
     "execution_count": 6,
     "metadata": {},
     "output_type": "execute_result"
    }
   ],
   "source": [
    "employee_df.columns"
   ]
  },
  {
   "cell_type": "code",
   "execution_count": 7,
   "id": "fb54146a",
   "metadata": {},
   "outputs": [
    {
     "data": {
      "text/plain": [
       "Index(['JobInvolvement', 'PerformanceRating'], dtype='object')"
      ]
     },
     "execution_count": 7,
     "metadata": {},
     "output_type": "execute_result"
    }
   ],
   "source": [
    "manager_df.columns"
   ]
  },
  {
   "cell_type": "markdown",
   "id": "7b40ba6e",
   "metadata": {},
   "source": [
    "We want to see how often workers change jobs. Looking at attrition and the number of companies the workers have previously worked at and seeing how that impacts metrics such as job performance and satisfaction."
   ]
  },
  {
   "cell_type": "code",
   "execution_count": 8,
   "id": "7851e947",
   "metadata": {},
   "outputs": [],
   "source": [
    "# The employee dataframe contains self reported information about employees regarding job satisfaction\n",
    "# The manager dataframe contains information on employee performance\n",
    "\n",
    "# We join both of the dataframes together on EmployeeID\n",
    "\n",
    "companies_df = employee_df.join(manager_df, on=\"EmployeeID\")"
   ]
  },
  {
   "cell_type": "code",
   "execution_count": 9,
   "id": "7b231ddb",
   "metadata": {},
   "outputs": [],
   "source": [
    "# We want to join the previous two dataframes with the NumCompaniesWorked and Attrition columns\n",
    "# from the general employee data\n",
    "\n",
    "companies_df = companies_df.join(general_df[[\"NumCompaniesWorked\", \"Attrition\"]],on=\"EmployeeID\")"
   ]
  },
  {
   "cell_type": "code",
   "execution_count": 10,
   "id": "2f26e444",
   "metadata": {},
   "outputs": [],
   "source": [
    "# Some rows are missing data, so we drop them\n",
    "\n",
    "companies_df = companies_df.dropna()"
   ]
  },
  {
   "cell_type": "code",
   "execution_count": 11,
   "id": "b7d52b29",
   "metadata": {},
   "outputs": [
    {
     "data": {
      "text/html": [
       "<div>\n",
       "<style scoped>\n",
       "    .dataframe tbody tr th:only-of-type {\n",
       "        vertical-align: middle;\n",
       "    }\n",
       "\n",
       "    .dataframe tbody tr th {\n",
       "        vertical-align: top;\n",
       "    }\n",
       "\n",
       "    .dataframe thead th {\n",
       "        text-align: right;\n",
       "    }\n",
       "</style>\n",
       "<table border=\"1\" class=\"dataframe\">\n",
       "  <thead>\n",
       "    <tr style=\"text-align: right;\">\n",
       "      <th></th>\n",
       "      <th>EnvironmentSatisfaction</th>\n",
       "      <th>JobSatisfaction</th>\n",
       "      <th>WorkLifeBalance</th>\n",
       "      <th>JobInvolvement</th>\n",
       "      <th>PerformanceRating</th>\n",
       "      <th>NumCompaniesWorked</th>\n",
       "      <th>Attrition</th>\n",
       "    </tr>\n",
       "    <tr>\n",
       "      <th>EmployeeID</th>\n",
       "      <th></th>\n",
       "      <th></th>\n",
       "      <th></th>\n",
       "      <th></th>\n",
       "      <th></th>\n",
       "      <th></th>\n",
       "      <th></th>\n",
       "    </tr>\n",
       "  </thead>\n",
       "  <tbody>\n",
       "    <tr>\n",
       "      <th>1</th>\n",
       "      <td>3.0</td>\n",
       "      <td>4.0</td>\n",
       "      <td>2.0</td>\n",
       "      <td>3</td>\n",
       "      <td>3</td>\n",
       "      <td>1.0</td>\n",
       "      <td>No</td>\n",
       "    </tr>\n",
       "    <tr>\n",
       "      <th>2</th>\n",
       "      <td>3.0</td>\n",
       "      <td>2.0</td>\n",
       "      <td>4.0</td>\n",
       "      <td>2</td>\n",
       "      <td>4</td>\n",
       "      <td>0.0</td>\n",
       "      <td>Yes</td>\n",
       "    </tr>\n",
       "    <tr>\n",
       "      <th>3</th>\n",
       "      <td>2.0</td>\n",
       "      <td>2.0</td>\n",
       "      <td>1.0</td>\n",
       "      <td>3</td>\n",
       "      <td>3</td>\n",
       "      <td>1.0</td>\n",
       "      <td>No</td>\n",
       "    </tr>\n",
       "    <tr>\n",
       "      <th>4</th>\n",
       "      <td>4.0</td>\n",
       "      <td>4.0</td>\n",
       "      <td>3.0</td>\n",
       "      <td>2</td>\n",
       "      <td>3</td>\n",
       "      <td>3.0</td>\n",
       "      <td>No</td>\n",
       "    </tr>\n",
       "    <tr>\n",
       "      <th>5</th>\n",
       "      <td>4.0</td>\n",
       "      <td>1.0</td>\n",
       "      <td>3.0</td>\n",
       "      <td>3</td>\n",
       "      <td>3</td>\n",
       "      <td>4.0</td>\n",
       "      <td>No</td>\n",
       "    </tr>\n",
       "    <tr>\n",
       "      <th>...</th>\n",
       "      <td>...</td>\n",
       "      <td>...</td>\n",
       "      <td>...</td>\n",
       "      <td>...</td>\n",
       "      <td>...</td>\n",
       "      <td>...</td>\n",
       "      <td>...</td>\n",
       "    </tr>\n",
       "    <tr>\n",
       "      <th>4405</th>\n",
       "      <td>3.0</td>\n",
       "      <td>4.0</td>\n",
       "      <td>3.0</td>\n",
       "      <td>2</td>\n",
       "      <td>3</td>\n",
       "      <td>1.0</td>\n",
       "      <td>No</td>\n",
       "    </tr>\n",
       "    <tr>\n",
       "      <th>4406</th>\n",
       "      <td>4.0</td>\n",
       "      <td>1.0</td>\n",
       "      <td>3.0</td>\n",
       "      <td>3</td>\n",
       "      <td>3</td>\n",
       "      <td>3.0</td>\n",
       "      <td>No</td>\n",
       "    </tr>\n",
       "    <tr>\n",
       "      <th>4407</th>\n",
       "      <td>4.0</td>\n",
       "      <td>4.0</td>\n",
       "      <td>3.0</td>\n",
       "      <td>2</td>\n",
       "      <td>3</td>\n",
       "      <td>2.0</td>\n",
       "      <td>No</td>\n",
       "    </tr>\n",
       "    <tr>\n",
       "      <th>4408</th>\n",
       "      <td>1.0</td>\n",
       "      <td>3.0</td>\n",
       "      <td>3.0</td>\n",
       "      <td>3</td>\n",
       "      <td>4</td>\n",
       "      <td>0.0</td>\n",
       "      <td>No</td>\n",
       "    </tr>\n",
       "    <tr>\n",
       "      <th>4409</th>\n",
       "      <td>4.0</td>\n",
       "      <td>1.0</td>\n",
       "      <td>3.0</td>\n",
       "      <td>2</td>\n",
       "      <td>3</td>\n",
       "      <td>0.0</td>\n",
       "      <td>No</td>\n",
       "    </tr>\n",
       "  </tbody>\n",
       "</table>\n",
       "<p>4308 rows × 7 columns</p>\n",
       "</div>"
      ],
      "text/plain": [
       "            EnvironmentSatisfaction  JobSatisfaction  WorkLifeBalance  \\\n",
       "EmployeeID                                                              \n",
       "1                               3.0              4.0              2.0   \n",
       "2                               3.0              2.0              4.0   \n",
       "3                               2.0              2.0              1.0   \n",
       "4                               4.0              4.0              3.0   \n",
       "5                               4.0              1.0              3.0   \n",
       "...                             ...              ...              ...   \n",
       "4405                            3.0              4.0              3.0   \n",
       "4406                            4.0              1.0              3.0   \n",
       "4407                            4.0              4.0              3.0   \n",
       "4408                            1.0              3.0              3.0   \n",
       "4409                            4.0              1.0              3.0   \n",
       "\n",
       "            JobInvolvement  PerformanceRating  NumCompaniesWorked Attrition  \n",
       "EmployeeID                                                                   \n",
       "1                        3                  3                 1.0        No  \n",
       "2                        2                  4                 0.0       Yes  \n",
       "3                        3                  3                 1.0        No  \n",
       "4                        2                  3                 3.0        No  \n",
       "5                        3                  3                 4.0        No  \n",
       "...                    ...                ...                 ...       ...  \n",
       "4405                     2                  3                 1.0        No  \n",
       "4406                     3                  3                 3.0        No  \n",
       "4407                     2                  3                 2.0        No  \n",
       "4408                     3                  4                 0.0        No  \n",
       "4409                     2                  3                 0.0        No  \n",
       "\n",
       "[4308 rows x 7 columns]"
      ]
     },
     "execution_count": 11,
     "metadata": {},
     "output_type": "execute_result"
    }
   ],
   "source": [
    "companies_df"
   ]
  },
  {
   "cell_type": "code",
   "execution_count": 12,
   "id": "bd8f72e2",
   "metadata": {},
   "outputs": [
    {
     "data": {
      "text/plain": [
       "EnvironmentSatisfaction    4308\n",
       "JobSatisfaction            4308\n",
       "WorkLifeBalance            4308\n",
       "JobInvolvement             4308\n",
       "PerformanceRating          4308\n",
       "NumCompaniesWorked         4308\n",
       "Attrition                  4308\n",
       "dtype: int64"
      ]
     },
     "execution_count": 12,
     "metadata": {},
     "output_type": "execute_result"
    }
   ],
   "source": [
    "# Double check the counts to make sure that all columns are filled\n",
    "\n",
    "companies_df.count()"
   ]
  },
  {
   "cell_type": "code",
   "execution_count": 25,
   "id": "536958c0",
   "metadata": {},
   "outputs": [
    {
     "data": {
      "text/html": [
       "<div>\n",
       "<style scoped>\n",
       "    .dataframe tbody tr th:only-of-type {\n",
       "        vertical-align: middle;\n",
       "    }\n",
       "\n",
       "    .dataframe tbody tr th {\n",
       "        vertical-align: top;\n",
       "    }\n",
       "\n",
       "    .dataframe thead th {\n",
       "        text-align: right;\n",
       "    }\n",
       "</style>\n",
       "<table border=\"1\" class=\"dataframe\">\n",
       "  <thead>\n",
       "    <tr style=\"text-align: right;\">\n",
       "      <th></th>\n",
       "      <th>NumCompaniesWorked</th>\n",
       "    </tr>\n",
       "    <tr>\n",
       "      <th>Attrition</th>\n",
       "      <th></th>\n",
       "    </tr>\n",
       "  </thead>\n",
       "  <tbody>\n",
       "    <tr>\n",
       "      <th>No</th>\n",
       "      <td>2.644697</td>\n",
       "    </tr>\n",
       "    <tr>\n",
       "      <th>Yes</th>\n",
       "      <td>2.938307</td>\n",
       "    </tr>\n",
       "  </tbody>\n",
       "</table>\n",
       "</div>"
      ],
      "text/plain": [
       "           NumCompaniesWorked\n",
       "Attrition                    \n",
       "No                   2.644697\n",
       "Yes                  2.938307"
      ]
     },
     "execution_count": 25,
     "metadata": {},
     "output_type": "execute_result"
    },
    {
     "data": {
      "image/png": "[encoded data removed]",
      "text/plain": [
       "<Figure size 432x288 with 1 Axes>"
      ]
     },
     "metadata": {
      "needs_background": "light"
     },
     "output_type": "display_data"
    }
   ],
   "source": [
    "# We can see here that employees that attrit (quit) work for more companies on average\n",
    "\n",
    "companies_df[[\"Attrition\", \"NumCompaniesWorked\"]].groupby(\"Attrition\").mean().plot(kind=\"bar\", legend=False, ylabel=\"Average Companies Worked\", ylim=[2,3])\n",
    "companies_df[[\"Attrition\", \"NumCompaniesWorked\"]].groupby(\"Attrition\").mean()"
   ]
  },
  {
   "cell_type": "code",
   "execution_count": 24,
   "id": "cb0edbfc",
   "metadata": {},
   "outputs": [
    {
     "data": {
      "text/html": [
       "<div>\n",
       "<style scoped>\n",
       "    .dataframe tbody tr th:only-of-type {\n",
       "        vertical-align: middle;\n",
       "    }\n",
       "\n",
       "    .dataframe tbody tr th {\n",
       "        vertical-align: top;\n",
       "    }\n",
       "\n",
       "    .dataframe thead th {\n",
       "        text-align: right;\n",
       "    }\n",
       "</style>\n",
       "<table border=\"1\" class=\"dataframe\">\n",
       "  <thead>\n",
       "    <tr style=\"text-align: right;\">\n",
       "      <th></th>\n",
       "      <th>JobSatisfaction</th>\n",
       "    </tr>\n",
       "    <tr>\n",
       "      <th>Attrition</th>\n",
       "      <th></th>\n",
       "    </tr>\n",
       "  </thead>\n",
       "  <tbody>\n",
       "    <tr>\n",
       "      <th>No</th>\n",
       "      <td>2.775408</td>\n",
       "    </tr>\n",
       "    <tr>\n",
       "      <th>Yes</th>\n",
       "      <td>2.466284</td>\n",
       "    </tr>\n",
       "  </tbody>\n",
       "</table>\n",
       "</div>"
      ],
      "text/plain": [
       "           JobSatisfaction\n",
       "Attrition                 \n",
       "No                2.775408\n",
       "Yes               2.466284"
      ]
     },
     "execution_count": 24,
     "metadata": {},
     "output_type": "execute_result"
    },
    {
     "data": {
      "image/png": "[encoded data removed]",
      "text/plain": [
       "<Figure size 432x288 with 1 Axes>"
      ]
     },
     "metadata": {
      "needs_background": "light"
     },
     "output_type": "display_data"
    }
   ],
   "source": [
    "# Employees that quit show lower job satisfaction\n",
    "\n",
    "companies_df[[\"Attrition\", \"JobSatisfaction\"]].groupby(\"Attrition\").mean().plot(kind=\"bar\", legend=False, ylabel=\"Job Satisfaction\", ylim=[2,3])\n",
    "companies_df[[\"Attrition\", \"JobSatisfaction\"]].groupby(\"Attrition\").mean()"
   ]
  },
  {
   "cell_type": "code",
   "execution_count": 23,
   "id": "7f764c5a",
   "metadata": {},
   "outputs": [
    {
     "data": {
      "text/html": [
       "<div>\n",
       "<style scoped>\n",
       "    .dataframe tbody tr th:only-of-type {\n",
       "        vertical-align: middle;\n",
       "    }\n",
       "\n",
       "    .dataframe tbody tr th {\n",
       "        vertical-align: top;\n",
       "    }\n",
       "\n",
       "    .dataframe thead th {\n",
       "        text-align: right;\n",
       "    }\n",
       "</style>\n",
       "<table border=\"1\" class=\"dataframe\">\n",
       "  <thead>\n",
       "    <tr style=\"text-align: right;\">\n",
       "      <th></th>\n",
       "      <th>WorkLifeBalance</th>\n",
       "    </tr>\n",
       "    <tr>\n",
       "      <th>Attrition</th>\n",
       "      <th></th>\n",
       "    </tr>\n",
       "  </thead>\n",
       "  <tbody>\n",
       "    <tr>\n",
       "      <th>No</th>\n",
       "      <td>2.780116</td>\n",
       "    </tr>\n",
       "    <tr>\n",
       "      <th>Yes</th>\n",
       "      <td>2.665710</td>\n",
       "    </tr>\n",
       "  </tbody>\n",
       "</table>\n",
       "</div>"
      ],
      "text/plain": [
       "           WorkLifeBalance\n",
       "Attrition                 \n",
       "No                2.780116\n",
       "Yes               2.665710"
      ]
     },
     "execution_count": 23,
     "metadata": {},
     "output_type": "execute_result"
    },
    {
     "data": {
      "image/png": "[encoded data removed]",
      "text/plain": [
       "<Figure size 432x288 with 1 Axes>"
      ]
     },
     "metadata": {
      "needs_background": "light"
     },
     "output_type": "display_data"
    }
   ],
   "source": [
    "# Employees that quit report a lower work/life balance, although the difference is not as great as job satisfaction\n",
    "\n",
    "companies_df[[\"Attrition\", \"WorkLifeBalance\"]].groupby(\"Attrition\").mean().plot(kind=\"bar\", legend=False, ylabel=\"WorkLifeBalance\", ylim=[2,3])\n",
    "companies_df[[\"Attrition\", \"WorkLifeBalance\"]].groupby(\"Attrition\").mean()"
   ]
  },
  {
   "cell_type": "code",
   "execution_count": 20,
   "id": "e80d681d",
   "metadata": {},
   "outputs": [
    {
     "data": {
      "text/html": [
       "<div>\n",
       "<style scoped>\n",
       "    .dataframe tbody tr th:only-of-type {\n",
       "        vertical-align: middle;\n",
       "    }\n",
       "\n",
       "    .dataframe tbody tr th {\n",
       "        vertical-align: top;\n",
       "    }\n",
       "\n",
       "    .dataframe thead th {\n",
       "        text-align: right;\n",
       "    }\n",
       "</style>\n",
       "<table border=\"1\" class=\"dataframe\">\n",
       "  <thead>\n",
       "    <tr style=\"text-align: right;\">\n",
       "      <th></th>\n",
       "      <th>JobInvolvement</th>\n",
       "    </tr>\n",
       "    <tr>\n",
       "      <th>Attrition</th>\n",
       "      <th></th>\n",
       "    </tr>\n",
       "  </thead>\n",
       "  <tbody>\n",
       "    <tr>\n",
       "      <th>No</th>\n",
       "      <td>2.732484</td>\n",
       "    </tr>\n",
       "    <tr>\n",
       "      <th>Yes</th>\n",
       "      <td>2.705882</td>\n",
       "    </tr>\n",
       "  </tbody>\n",
       "</table>\n",
       "</div>"
      ],
      "text/plain": [
       "           JobInvolvement\n",
       "Attrition                \n",
       "No               2.732484\n",
       "Yes              2.705882"
      ]
     },
     "execution_count": 20,
     "metadata": {},
     "output_type": "execute_result"
    },
    {
     "data": {
      "image/png": "[encoded data removed]",
      "text/plain": [
       "<Figure size 432x288 with 1 Axes>"
      ]
     },
     "metadata": {
      "needs_background": "light"
     },
     "output_type": "display_data"
    }
   ],
   "source": [
    "# Job involement has little impact on attrition\n",
    "\n",
    "companies_df[[\"Attrition\", \"JobInvolvement\"]].groupby(\"Attrition\").mean().plot(kind=\"bar\", legend=False, ylabel=\"Job Involement\", ylim=[2,3])\n",
    "companies_df[[\"Attrition\", \"JobInvolvement\"]].groupby(\"Attrition\").mean()"
   ]
  },
  {
   "cell_type": "code",
   "execution_count": 22,
   "id": "ecb1e742",
   "metadata": {},
   "outputs": [
    {
     "data": {
      "text/html": [
       "<div>\n",
       "<style scoped>\n",
       "    .dataframe tbody tr th:only-of-type {\n",
       "        vertical-align: middle;\n",
       "    }\n",
       "\n",
       "    .dataframe tbody tr th {\n",
       "        vertical-align: top;\n",
       "    }\n",
       "\n",
       "    .dataframe thead th {\n",
       "        text-align: right;\n",
       "    }\n",
       "</style>\n",
       "<table border=\"1\" class=\"dataframe\">\n",
       "  <thead>\n",
       "    <tr style=\"text-align: right;\">\n",
       "      <th></th>\n",
       "      <th>EnvironmentSatisfaction</th>\n",
       "    </tr>\n",
       "    <tr>\n",
       "      <th>Attrition</th>\n",
       "      <th></th>\n",
       "    </tr>\n",
       "  </thead>\n",
       "  <tbody>\n",
       "    <tr>\n",
       "      <th>No</th>\n",
       "      <td>2.774024</td>\n",
       "    </tr>\n",
       "    <tr>\n",
       "      <th>Yes</th>\n",
       "      <td>2.466284</td>\n",
       "    </tr>\n",
       "  </tbody>\n",
       "</table>\n",
       "</div>"
      ],
      "text/plain": [
       "           EnvironmentSatisfaction\n",
       "Attrition                         \n",
       "No                        2.774024\n",
       "Yes                       2.466284"
      ]
     },
     "execution_count": 22,
     "metadata": {},
     "output_type": "execute_result"
    },
    {
     "data": {
      "image/png": "[encoded data removed]",
      "text/plain": [
       "<Figure size 432x288 with 1 Axes>"
      ]
     },
     "metadata": {
      "needs_background": "light"
     },
     "output_type": "display_data"
    }
   ],
   "source": [
    "# Environment satisfaction seems to have a significant impact on attrition rate\n",
    "\n",
    "companies_df[[\"Attrition\", \"EnvironmentSatisfaction\"]].groupby(\"Attrition\").mean().plot(kind=\"bar\", legend=False, ylabel=\"Environment Satisfaction\", ylim=[2,3])\n",
    "companies_df[[\"Attrition\", \"EnvironmentSatisfaction\"]].groupby(\"Attrition\").mean()"
   ]
  },
  {
   "cell_type": "code",
   "execution_count": 17,
   "id": "7e1f3150",
   "metadata": {},
   "outputs": [
    {
     "data": {
      "text/html": [
       "<div>\n",
       "<style scoped>\n",
       "    .dataframe tbody tr th:only-of-type {\n",
       "        vertical-align: middle;\n",
       "    }\n",
       "\n",
       "    .dataframe tbody tr th {\n",
       "        vertical-align: top;\n",
       "    }\n",
       "\n",
       "    .dataframe thead th {\n",
       "        text-align: right;\n",
       "    }\n",
       "</style>\n",
       "<table border=\"1\" class=\"dataframe\">\n",
       "  <thead>\n",
       "    <tr style=\"text-align: right;\">\n",
       "      <th></th>\n",
       "      <th>PerformanceRating</th>\n",
       "    </tr>\n",
       "    <tr>\n",
       "      <th>Attrition</th>\n",
       "      <th></th>\n",
       "    </tr>\n",
       "  </thead>\n",
       "  <tbody>\n",
       "    <tr>\n",
       "      <th>No</th>\n",
       "      <td>3.150097</td>\n",
       "    </tr>\n",
       "    <tr>\n",
       "      <th>Yes</th>\n",
       "      <td>3.175036</td>\n",
       "    </tr>\n",
       "  </tbody>\n",
       "</table>\n",
       "</div>"
      ],
      "text/plain": [
       "           PerformanceRating\n",
       "Attrition                   \n",
       "No                  3.150097\n",
       "Yes                 3.175036"
      ]
     },
     "execution_count": 17,
     "metadata": {},
     "output_type": "execute_result"
    },
    {
     "data": {
      "image/png": "[encoded data removed]",
      "text/plain": [
       "<Figure size 432x288 with 1 Axes>"
      ]
     },
     "metadata": {
      "needs_background": "light"
     },
     "output_type": "display_data"
    }
   ],
   "source": [
    "# It also seems that attrition has little to no impact on performance rating\n",
    "\n",
    "companies_df[[\"Attrition\", \"PerformanceRating\"]].groupby(\"Attrition\").mean().plot(kind=\"bar\", legend=False, ylabel=\"PerformanceRating\", ylim=[2,4])\n",
    "companies_df[[\"Attrition\", \"PerformanceRating\"]].groupby(\"Attrition\").mean()"
   ]
  },
  {
   "cell_type": "code",
   "execution_count": 29,
   "id": "a9b40935",
   "metadata": {},
   "outputs": [
    {
     "data": {
      "text/plain": [
       "<AxesSubplot:ylabel='Attrition'>"
      ]
     },
     "execution_count": 29,
     "metadata": {},
     "output_type": "execute_result"
    },
    {
     "data": {
      "image/png": "[encoded data removed]",
      "text/plain": [
       "<Figure size 432x288 with 1 Axes>"
      ]
     },
     "metadata": {},
     "output_type": "display_data"
    }
   ],
   "source": [
    "# Only 16% of employees in the dataset have quit\n",
    "\n",
    "companies_df[[\"Attrition\", \"JobSatisfaction\"]].groupby(\"Attrition\").count().plot(kind=\"pie\", y=\"JobSatisfaction\", ylabel=\"Attrition\", autopct='%1.1f%%', legend=False)"
   ]
  },
  {
   "cell_type": "code",
   "execution_count": 26,
   "id": "b962083b",
   "metadata": {},
   "outputs": [
    {
     "data": {
      "text/plain": [
       "<AxesSubplot:xlabel='Number of Companies Worked', ylabel='Average Job Satisfaction'>"
      ]
     },
     "execution_count": 26,
     "metadata": {},
     "output_type": "execute_result"
    },
    {
     "data": {
      "image/png": "[encoded data removed]",
      "text/plain": [
       "<Figure size 432x288 with 1 Axes>"
      ]
     },
     "metadata": {
      "needs_background": "light"
     },
     "output_type": "display_data"
    }
   ],
   "source": [
    "# Breaking down job satisfaction based on number of companies worked it seems that employees that have\n",
    "# worked at 4 or less companies tend to be more satisfied with their jobs\n",
    "\n",
    "companies_df[[\"JobSatisfaction\", \"NumCompaniesWorked\"]].groupby(\"NumCompaniesWorked\").mean().plot(kind=\"line\", legend=False, ylim=[2.4,3], xlabel=\"Number of Companies Worked\", ylabel=\"Average Job Satisfaction\")"
   ]
  },
  {
   "cell_type": "code",
   "execution_count": 27,
   "id": "e4dc7f09",
   "metadata": {},
   "outputs": [
    {
     "data": {
      "text/plain": [
       "<AxesSubplot:xlabel='Number of Companies Worked', ylabel='Work/Life Balance'>"
      ]
     },
     "execution_count": 27,
     "metadata": {},
     "output_type": "execute_result"
    },
    {
     "data": {
      "image/png": "[encoded data removed]",
      "text/plain": [
       "<Figure size 432x288 with 1 Axes>"
      ]
     },
     "metadata": {
      "needs_background": "light"
     },
     "output_type": "display_data"
    }
   ],
   "source": [
    "# It appears that employees that have worked at more than 4 companies report worse work/life balance than those\n",
    "# who work for 4 or less.\n",
    "\n",
    "companies_df[[\"WorkLifeBalance\", \"NumCompaniesWorked\"]].groupby(\"NumCompaniesWorked\").mean().plot(kind=\"line\", legend=False, ylim=[2.4,3], xlabel=\"Number of Companies Worked\", ylabel=\"Work/Life Balance\")"
   ]
  },
  {
   "cell_type": "code",
   "execution_count": 28,
   "id": "25b2bd39",
   "metadata": {},
   "outputs": [
    {
     "data": {
      "text/plain": [
       "<AxesSubplot:xlabel='Number of Companies Worked', ylabel='Job Performance'>"
      ]
     },
     "execution_count": 28,
     "metadata": {},
     "output_type": "execute_result"
    },
    {
     "data": {
      "image/png": "[encoded data removed]",
      "text/plain": [
       "<Figure size 432x288 with 1 Axes>"
      ]
     },
     "metadata": {
      "needs_background": "light"
     },
     "output_type": "display_data"
    }
   ],
   "source": [
    "# Job permance rating seems to be faily regular accross the board\n",
    "\n",
    "companies_df[[\"PerformanceRating\", \"NumCompaniesWorked\"]].groupby(\"NumCompaniesWorked\").mean().plot(kind=\"line\", legend=False, ylim=[3,3.5], xlabel=\"Number of Companies Worked\", ylabel=\"Job Performance\")"
   ]
  },
  {
   "cell_type": "code",
   "execution_count": 70,
   "id": "7558ee9f",
   "metadata": {},
   "outputs": [
    {
     "data": {
      "text/plain": [
       "<AxesSubplot:ylabel='Number of Companies Worked'>"
      ]
     },
     "execution_count": 70,
     "metadata": {},
     "output_type": "execute_result"
    },
    {
     "data": {
      "image/png": "[encoded data removed]",
      "text/plain": [
       "<Figure size 504x504 with 1 Axes>"
      ]
     },
     "metadata": {},
     "output_type": "display_data"
    }
   ],
   "source": [
    "# A plurality of employees have only worked for 1 previous employeer, with most employees working for 2 or less\n",
    "\n",
    "companies_df[[\"JobSatisfaction\", \"NumCompaniesWorked\"]].groupby(\"NumCompaniesWorked\").count().plot(kind=\"pie\", y='JobSatisfaction', autopct='%1.1f%%', legend=False, ylabel=\"Number of Companies Worked\", figsize=[7,7])"
   ]
  }
 ],
 "metadata": {
  "kernelspec": {
   "display_name": "Python 3 (ipykernel)",
   "language": "python",
   "name": "python3"
  },
  "language_info": {
   "codemirror_mode": {
    "name": "ipython",
    "version": 3
   },
   "file_extension": ".py",
   "mimetype": "text/x-python",
   "name": "python",
   "nbconvert_exporter": "python",
   "pygments_lexer": "ipython3",
   "version": "3.9.7"
  }
 },
 "nbformat": 4,
 "nbformat_minor": 5
}
